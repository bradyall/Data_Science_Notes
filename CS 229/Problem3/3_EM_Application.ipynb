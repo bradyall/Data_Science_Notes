{
 "cells": [
  {
   "cell_type": "markdown",
   "metadata": {},
   "source": [
    "# CS229: Problem Set 3\n",
    "## Problem 3: EM Application - Paper Reviews\n",
    "\n",
    "\n",
    "**C. Combier**\n",
    "\n",
    "This iPython Notebook provides solutions to Stanford's CS229 (Machine Learning, Fall 2017) graduate course problem set 3, taught by Andrew Ng.\n",
    "\n",
    "The problem set can be found here: [./ps3.pdf](ps3.pdf)\n",
    "\n",
    "I chose to write the solutions to the coding questions in Python, whereas the Stanford class is taught with Matlab/Octave.\n",
    "\n",
    "## Notation\n",
    "\n",
    "- $x^i$ is the $i^{th}$ feature vector\n",
    "- $y^i$ is the expected outcome for the $i^{th}$ training example\n",
    "- $m$ is the number of training examples\n",
    "- $n$ is the number of features"
   ]
  },
  {
   "cell_type": "markdown",
   "metadata": {},
   "source": [
    "### Question 3.a.i)\n",
    "\n",
    "$x^{pr} = y^{pr}+z^{pr}+\\epsilon^{pr}$.\n",
    "\n",
    "Given that, $y^{pr}$, $z^{pr}$ and $\\epsilon^{pr}$ are all Gaussian, then $x^{pr}$ is also gaussian, with\n",
    "\n",
    "- Mean $\\mu_p + \\nu_r$\n",
    "- Variance $\\sigma_p^2 + \\tau_r^2 + \\sigma^2$\n",
    "\n",
    "The joint probability distribution for $x^{pr}, y^{pr}, z^{pr})$ is gaussian, with:\n",
    "\n",
    "- Mean $[\\mu_p + \\nu_r, \\mu_p, \\nu_r]^T$\n",
    "- Covariance:\n",
    "\n",
    "$$\n",
    "\\left( \\begin{array}{ccc}\n",
    "\\sigma_p^2 + \\tau_r^2 + \\sigma^2 & \\sigma_p^2 & \\tau_r^2 \\\\\n",
    "\\sigma_p^2 & \\sigma_p^2 & 0 \\\\\n",
    "\\tau_r^2 & 0 & \\tau_r^2\n",
    "\\end{array}\\right)\n",
    "$$"
   ]
  },
  {
   "cell_type": "markdown",
   "metadata": {},
   "source": [
    "### Question 3.a.ii)\n",
    "\n",
    "For the E-step, we are looking for a certain distribution $Q_{pr}(y^{pr},z^{pr})$ such that:\n",
    "\n",
    "$$\n",
    "\\frac{p(x^{pr},y^{pr},{z^{pr}})}{Q_{pr}(y^{pr},z^{pr})} = cste\n",
    "$$\n",
    "\n",
    "Since $Q_{pr}$ is a distribution, it must sum (discrete case) or integrate (continuous case) to one, i.e. : \n",
    "\n",
    "$$\n",
    "\\sum_{r=1}^R \\sum_{p=1}^P Q_{pr}(y^{pr},z^{pr}) = 1\n",
    "$$\n",
    "\n",
    "This yields the value for the constant, and hence the value of $Q_{pr}$:\n",
    "\n",
    "$$\n",
    "\\begin{align*}\n",
    "Q_{pr} &= \\frac{p(x^{pr},y^{pr},{z^{pr}})}{\\sum_{r=1}^R \\sum_{p=1}^P p(x^{pr},y^{pr},{z^{pr}})} \\\\\n",
    "& = \\frac{p(x^{pr},y^{pr},{z^{pr}})}{p(x^{pr})}\n",
    "\\end{align*}\n",
    "$$\n",
    "\n",
    "We recognize the conditional probability given below:\n",
    "\n",
    "$$\n",
    "Q_{pr} = p(y^{pr},z^{pr} | x^{pr})\n",
    "$$\n",
    "\n",
    "This is also a gaussian distribution. Calculations are heavy, but the mean and variance of this joint distribution are given by:\n",
    "\n",
    "\\begin{align*}\n",
    "\\mu_x &=\n",
    "\\begin{bmatrix}\n",
    "\\mu_p \\\\\n",
    "\\nu_r \\\\\n",
    "\\end{bmatrix} + \\frac{x^{pr} - \\mu_p - \\nu_r}{\\sigma_p^2 + \\tau_r^2 + \\sigma^2} \n",
    "\\begin{bmatrix}\n",
    "\\sigma_p^2 \\\\\n",
    "\\tau^2 \\\\\n",
    "\\end{bmatrix}\n",
    "\\end{align*}\n",
    "\n",
    "\\begin{align*}\n",
    "\\Sigma_x \n",
    "&= \\begin{bmatrix}\n",
    "\\sigma_p^2 & 0        \\\\ \n",
    "0          & \\tau_r^2 \\\\ \n",
    "\\end{bmatrix} - \\frac{1}{\\sigma_p^2 + \\tau_r^2 + \\sigma^2} \\begin{bmatrix}\n",
    "\\sigma_p^4        & \\sigma_p^2 \\tau_r^2 \\\\\n",
    "\\tau_r^2 \\sigma_p^2 & \\tau_r^4            \\\\\n",
    "\\end{bmatrix} \n",
    "\\end{align*}"
   ]
  },
  {
   "cell_type": "markdown",
   "metadata": {},
   "source": [
    "### Question 3.b)"
   ]
  },
  {
   "cell_type": "markdown",
   "metadata": {},
   "source": [
    "In the E-step, we calculate a lower bound for the log-likelihood, and make it tight for the current value of the parameters of the latent variables $y^{pr}$ and $z^{pr}$. In the M-step, we update those parameters by maximizing the lower bound calculated in the E-step. This is done by calculating the gradient of the lower bound with respect to the parameters ($\\mu_p, \\sigma_p, \\nu_r, \\tau_r $), and setting the gradient to $0$."
   ]
  }
 ],
 "metadata": {
  "kernelspec": {
   "display_name": "Python 2",
   "language": "python",
   "name": "python2"
  },
  "language_info": {
   "codemirror_mode": {
    "name": "ipython",
    "version": 2
   },
   "file_extension": ".py",
   "mimetype": "text/x-python",
   "name": "python",
   "nbconvert_exporter": "python",
   "pygments_lexer": "ipython2",
   "version": "2.7.15"
  }
 },
 "nbformat": 4,
 "nbformat_minor": 2
}
