{
 "cells": [
  {
   "cell_type": "markdown",
   "metadata": {},
   "source": [
    "# CS229: Problem Set 3\n",
    "## Problem 1: A Simple Neural Network\n",
    "\n",
    "\n",
    "**C. Combier**\n",
    "\n",
    "This iPython Notebook provides solutions to Stanford's CS229 (Machine Learning, Fall 2017) graduate course problem set 3, taught by Andrew Ng.\n",
    "\n",
    "The problem set can be found here: [./ps3.pdf](ps3.pdf)\n",
    "\n",
    "I chose to write the solutions to the coding questions in Python, whereas the Stanford class is taught with Matlab/Octave.\n",
    "\n",
    "## Notation\n",
    "\n",
    "- $x^i$ is the $i^{th}$ feature vector\n",
    "- $y^i$ is the expected outcome for the $i^{th}$ training example\n",
    "- $m$ is the number of training examples\n",
    "- $n$ is the number of features"
   ]
  },
  {
   "cell_type": "markdown",
   "metadata": {},
   "source": [
    "### Question 1.b)\n",
    "\n",
    "![triangle separation](data/triangle_pb3_1.jpg)\n",
    "\n",
    "It seems that a triangle can separate the data.\n",
    "\n",
    "We can construct a weight matrix by using a combination of linear classifiers, where each side of the triangle represents a decision boundary.\n",
    "\n",
    "Each side of the triangle can be represented by an equation of the form $w_0 +w_1 x_1 + w_2 x_2 = 0$. If we transform this equality into an inequality, then the output represents on which side of the decision boundary a given data point $(x_1,x_2)$ belongs. The intersection of the outputs for each of these decision boundaries tells us whether $(x_1,x_2)$ lies within the triangle, in which case we will classify it $0$, and if not as $1$.\n",
    "\n",
    "The first weight matrix can be written as:\n",
    "\n"
   ]
  },
  {
   "cell_type": "markdown",
   "metadata": {},
   "source": [
    "$$\n",
    "W^{[1]} = \\left ( \\begin{array}{ccc}\n",
    "-1 & 4 & 0 \\\\\n",
    "-1 & 0 & 4 \\\\\n",
    "4.5 & -1 & -1\n",
    "\\end{array} \\right )\n",
    "$$\n",
    "\n",
    "The input vector is:\n",
    "$$\n",
    "X = (\\begin{array}{ccc}\n",
    "1 & x_1 & x_2\n",
    "\\end{array})^T\n",
    "$$\n",
    "\n",
    "- The first line of $W^{[1]}$ is the equation for the vertical side of the triangle, $x_1 = 0.25$\n",
    "- The second line of $W^{[1]}$ is the equation for the horizontal side of the triangle, $x_2 = 0.25$\n",
    "- The third line of $W^{[1]}$ is the equation for the oblique side of the triangle, $x_2 = -x_1 + 4.5$\n",
    "\n",
    "Consequently, with the given activation function, if the training example given by ($x_1$, $x_2$) lies within the triangle, then:\n",
    "\n",
    "$$\n",
    "f(W^{[1]}X) = (\\begin{array}{ccc}\n",
    "1 & 1 & 1\n",
    "\\end{array})^T\n",
    "$$\n",
    "\n",
    "In all other cases, at least one element of the output vector $f(W^{[1]}X)$ is not equal to $1$.\n",
    "\n",
    "We can use this observation to find weights for the ouput layer. We take the sum of the components of $f(W^{[1]}X)$, and compare the value to 2.5 to check if all elements are equal to $1$ or not. This gives the weight matrix:\n",
    "\n",
    "$$\n",
    "W^{[2]} =(\\begin{array}{cccc}\n",
    "2.5 & -1 & -1 & -1\n",
    "\\end{array})\n",
    "$$\n",
    "\n",
    "The additional term 2.5 is the zero intercept. With this weight matrix, the ouput of the final layer will be $0$ if the training example is within the triangle, and $1$ if it is outside of the triangle.\n",
    "\n",
    "The "
   ]
  },
  {
   "cell_type": "markdown",
   "metadata": {},
   "source": [
    "### Question 1.c)\n",
    "\n",
    "A linear activation function does not work, because the problem is not linearly separable, i.e. there is no hyperplane that perfectly separates the data."
   ]
  }
 ],
 "metadata": {
  "kernelspec": {
   "display_name": "Python 2",
   "language": "python",
   "name": "python2"
  },
  "language_info": {
   "codemirror_mode": {
    "name": "ipython",
    "version": 2
   },
   "file_extension": ".py",
   "mimetype": "text/x-python",
   "name": "python",
   "nbconvert_exporter": "python",
   "pygments_lexer": "ipython2",
   "version": "2.7.15"
  }
 },
 "nbformat": 4,
 "nbformat_minor": 2
}
