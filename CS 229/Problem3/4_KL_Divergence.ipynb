{
 "cells": [
  {
   "cell_type": "markdown",
   "metadata": {},
   "source": [
    "# CS229: Problem Set 3\n",
    "## Problem 4: KL Divergence and Maximum Likelihood\n",
    "\n",
    "\n",
    "**C. Combier**\n",
    "\n",
    "This iPython Notebook provides solutions to Stanford's CS229 (Machine Learning, Fall 2017) graduate course problem set 3, taught by Andrew Ng.\n",
    "\n",
    "The problem set can be found here: [./ps3.pdf](ps3.pdf)\n",
    "\n",
    "I chose to write the solutions to the coding questions in Python, whereas the Stanford class is taught with Matlab/Octave.\n",
    "\n",
    "## Notation\n",
    "\n",
    "- $x^i$ is the $i^{th}$ feature vector\n",
    "- $y^i$ is the expected outcome for the $i^{th}$ training example\n",
    "- $m$ is the number of training examples\n",
    "- $n$ is the number of features"
   ]
  },
  {
   "cell_type": "markdown",
   "metadata": {},
   "source": [
    "### Question 4.a)\n",
    "\n",
    "The goal is to prove that $KL(P||Q) \\geq 0$.\n",
    "\n",
    "$$\n",
    "\\begin{align*}\n",
    "KL(P||Q) &= \\sum_x P(x) \\log \\frac{P(x)}{Q(x)} \\\\\n",
    "&= -\\sum_x P(x) \\log \\frac{Q(x)}{P(x)} \\\\\n",
    "& \\geq -\\log \\sum_x P(x) \\frac{Q(x)}{P(x)} \\\\\n",
    "& \\geq -\\log \\sum_x Q(x) \\\\\n",
    "& \\geq - \\log 1 \\\\\n",
    "& \\geq 0\n",
    "\\end{align*}\n",
    "$$\n",
    "\n",
    "Now we prove $KL(P||Q) = 0 \\iff P=Q$.\n",
    "\n",
    "1. If $P = Q$, then it is immediate that $\\log \\frac{P(x)}{Q(x)} = 0$ and hence $KL(P||Q) = 0$\n",
    "\n",
    "2. If $KL(P||Q) = 0$, then $\\forall x$, $\\frac{P(x)}{Q(x)} = 1$, therefore $P = Q$\n",
    "\n"
   ]
  },
  {
   "cell_type": "markdown",
   "metadata": {},
   "source": [
    "### Question 4.b)\n",
    "\n",
    "\\begin{align*}\n",
    "KL(P(X) \\parallel Q(X)) + KL(P(Y|X) \\parallel Q(Y|X)) \n",
    "&= \\sum_x P(x) (\\log \\frac{P(x)}{Q(x)} + \\sum_y P(y|x) \\log \\frac{P(y|x)}{Q(y|x)}) \\\\\n",
    "&= \\sum_x P(x) \\sum_y P(y|x) ( \\log \\frac{P(x)}{Q(x)} + \\log \\frac{P(y|x)}{Q(y|x)} ) \\\\\n",
    "\\end{align*}\n",
    "\n",
    "We can include the term $\\log \\frac{P(x)}{Q(x)}$ in the sum over $y$, because $\\sum_y P(y|x) = 1$ since $P$ is a probability distribution. We continue the calculation:\n",
    "\n",
    "\\begin{align*}\n",
    "KL(P(X) \\parallel Q(X)) + KL(P(Y|X) \\parallel Q(Y|X)) \n",
    "&= \\sum_x P(x) \\sum_y P(y|x) \\log \\frac{P(x) P(y|x)}{Q(x) Q(y|x)} \\\\\n",
    "&= \\sum_x P(x) \\sum_y P(y|x)  \\log \\frac{P(x, y)}{Q(x, y)} \\\\\n",
    "&= \\sum_x P(x, y) \\log \\frac{P(x, y)}{Q(x, y)} \\\\\n",
    "&= KL(P(X, Y) || Q(X, Y)) \\\\\n",
    "\\end{align*}"
   ]
  },
  {
   "cell_type": "markdown",
   "metadata": {},
   "source": [
    "### Question 4.c)\n",
    "\n",
    "\\begin{align*}\n",
    "KL(\\hat P || P_{\\theta}) \n",
    "&= \\sum_x \\hat P(x) \\log \\frac{\\hat P(x)}{P_{\\theta}(x)} \\\\\n",
    "&= - \\sum_x \\hat P(x) \\log \\frac{P_{\\theta}(x)}{\\hat P(x)} \\\\\n",
    "&= - \\sum_x (\\frac{1}{m} \\sum_{i=1}^{m} 1 \\{x^{(i)} = x\\}). \\log \\frac{P_{\\theta}(x)}{\\frac{1}{m} \\sum_{i=1}^{m} 1 \\{x^{(i)} = x\\}} \\\\\n",
    "&= - \\frac{1}{m} \\sum_{i=1}^{m} \\log P_{\\theta}(x^{(i)}) \\\\\n",
    "\\end{align*}\n",
    "\n",
    "Thus, minimizing $KL(\\hat P || P_{\\theta})$ is equivalent to maximizing $\\sum_{i=1}^{m} \\log P_{\\theta}(x^{(i)}) = \\ell(\\theta)$"
   ]
  }
 ],
 "metadata": {
  "kernelspec": {
   "display_name": "Python 2",
   "language": "python",
   "name": "python2"
  },
  "language_info": {
   "codemirror_mode": {
    "name": "ipython",
    "version": 2
   },
   "file_extension": ".py",
   "mimetype": "text/x-python",
   "name": "python",
   "nbconvert_exporter": "python",
   "pygments_lexer": "ipython2",
   "version": "2.7.15"
  }
 },
 "nbformat": 4,
 "nbformat_minor": 2
}
